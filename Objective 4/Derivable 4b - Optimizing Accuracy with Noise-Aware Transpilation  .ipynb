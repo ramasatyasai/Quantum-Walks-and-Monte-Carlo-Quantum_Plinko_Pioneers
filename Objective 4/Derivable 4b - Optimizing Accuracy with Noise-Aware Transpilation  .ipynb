{
 "cells": [
  {
   "cell_type": "markdown",
   "id": "cd334946-7103-4273-aed7-88ece974428b",
   "metadata": {},
   "source": [
    "# Optimizing Accuracy with Noise-Aware Transpilation  \n",
    "\n",
    "### Overview\n",
    "This notebook focuses on reducing error in noisy quantum simulations using Qiskit’s noise-aware transpiler.\n",
    "\n",
    "### Goals:\n",
    "- Investigate how Qiskit's transpilation levels affect accuracy under noise.\n",
    "- Use Total Variation Distance (TVD) to compare noisy results with ideal results.\n",
    "- Compare different transpilation optimization levels (0, 1, 2, 3)."
   ]
  },
  {
   "cell_type": "markdown",
   "id": "4c80748b-f174-468b-997b-f04e773acde8",
   "metadata": {},
   "source": [
    "STEP 1: Define Hadamard-Based Quantum Walk Circuit for A Given Depth"
   ]
  },
  {
   "cell_type": "code",
   "execution_count": 1,
   "id": "3fc0498e-3c0f-4975-8bdb-15e8195015a3",
   "metadata": {},
   "outputs": [],
   "source": [
    "# Import standard libraries\n",
    "import numpy as np\n",
    "import matplotlib.pyplot as plt\n",
    "from scipy.stats import norm, binom\n",
    "from qiskit import QuantumCircuit, ClassicalRegister, QuantumRegister, transpile\n",
    "from qiskit_aer import AerSimulator\n",
    "from qiskit_aer.noise import NoiseModel\n",
    "import warnings\n",
    "warnings.filterwarnings('ignore')\n",
    "\n",
    "import os\n",
    "# Create output directory\n",
    "output_dir = \"../outputs/Derivable4b/\"\n",
    "os.makedirs(output_dir, exist_ok=True)  # Create if doesn't exist"
   ]
  },
  {
   "cell_type": "code",
   "execution_count": 2,
   "id": "d6241937-b0cc-42da-9913-bd9cbaca43f0",
   "metadata": {},
   "outputs": [],
   "source": [
    "def build_hadamard_walk(n_layers):\n",
    "    \"\"\"\n",
    "    Constructs a quantum walk circuit using Hadamard gates.\n",
    "\n",
    "    Args:\n",
    "        n_layers (int): Number of quantum steps (layers)\n",
    "\n",
    "    Returns:\n",
    "        QuantumCircuit: A simple Hadamard walk circuit\n",
    "    \"\"\"\n",
    "    qr = QuantumRegister(n_layers)\n",
    "    cr = ClassicalRegister(n_layers)\n",
    "    qc = QuantumCircuit(qr, cr)\n",
    "\n",
    "    for i in range(n_layers):\n",
    "        qc.h(i)  # Apply Hadamard to each qubit\n",
    "\n",
    "    qc.barrier()\n",
    "    qc.measure(qr, cr)\n",
    "    return qc"
   ]
  },
  {
   "cell_type": "markdown",
   "id": "bda2459c-da07-41e1-93cb-64f3640864fc",
   "metadata": {},
   "source": [
    "STEP 2: Total Variation Distance (TVD) Calculator"
   ]
  },
  {
   "cell_type": "code",
   "execution_count": 3,
   "id": "377ff112-33cf-418b-8181-fb466f200a00",
   "metadata": {},
   "outputs": [],
   "source": [
    "def total_variation_distance(counts1, counts2):\n",
    "    \"\"\"\n",
    "    Calculates the TVD between two count distributions.\n",
    "\n",
    "    Args:\n",
    "        counts1 (dict): First result dict (e.g., ideal)\n",
    "        counts2 (dict): Second result dict (e.g., noisy)\n",
    "\n",
    "    Returns:\n",
    "        float: TVD score\n",
    "    \"\"\"\n",
    "    keys = set(counts1) | set(counts2)\n",
    "    total1 = sum(counts1.values())\n",
    "    total2 = sum(counts2.values())\n",
    "\n",
    "    tvd = 0\n",
    "    for k in keys:\n",
    "        p1 = counts1.get(k, 0) / total1\n",
    "        p2 = counts2.get(k, 0) / total2\n",
    "        tvd += abs(p1 - p2)\n",
    "\n",
    "    return tvd / 2"
   ]
  },
  {
   "cell_type": "markdown",
   "id": "b3ad93cc-cb36-44d5-9945-8fdd555d148f",
   "metadata": {},
   "source": [
    "STEP 3: Simulation for Any Transpilation Level"
   ]
  },
  {
   "cell_type": "code",
   "execution_count": 4,
   "id": "59f996fd-7882-413c-a2d5-c4d272f50860",
   "metadata": {},
   "outputs": [],
   "source": [
    "def simulate(qc, shots, noise_model, optimization_level=None):\n",
    "    \"\"\"\n",
    "    Simulates a given circuit with/without noise.\n",
    "\n",
    "    Args:\n",
    "        qc (QuantumCircuit): The quantum circuit\n",
    "        shots (int): Number of shots to run\n",
    "        noise_model (NoiseModel): Noise model to use\n",
    "        optimization_level (int, optional): 0–3 transpilation level\n",
    "\n",
    "    Returns:\n",
    "        dict: Measured counts\n",
    "    \"\"\"\n",
    "    sim = AerSimulator()\n",
    "    transpiled = transpile(qc, sim,\n",
    "                           optimization_level=optimization_level,\n",
    "                           basis_gates=noise_model.basis_gates if noise_model else None)\n",
    "    result = sim.run(transpiled, noise_model=noise_model, shots=shots).result()\n",
    "    return result.get_counts()"
   ]
  },
  {
   "cell_type": "markdown",
   "id": "1d72851e-a852-4e52-851a-fcb851895ca1",
   "metadata": {},
   "source": [
    "STEP 4: Run Simulations"
   ]
  },
  {
   "cell_type": "code",
   "execution_count": 5,
   "id": "67e6130e-6433-4c20-b67c-775ab7ee9b9c",
   "metadata": {},
   "outputs": [
    {
     "name": "stdout",
     "output_type": "stream",
     "text": [
      "[Opt. Level 0] → TVD = 0.0377\n",
      "[Opt. Level 1] → TVD = 0.0471\n",
      "[Opt. Level 2] → TVD = 0.0322\n",
      "[Opt. Level 3] → TVD = 0.0372\n"
     ]
    }
   ],
   "source": [
    "steps = 5\n",
    "shots = 8192\n",
    "qc = build_hadamard_walk(steps)\n",
    "\n",
    "# Ideal (noiseless) simulation\n",
    "ideal_counts = simulate(qc, shots=shots, noise_model=None)\n",
    "\n",
    "# Custom noise model for realistic errors (no IBMQ needed)\n",
    "noise_model = NoiseModel()\n",
    "\n",
    "# Store TVD scores for each optimization level\n",
    "tvd_results = {}\n",
    "\n",
    "for level in range(4):\n",
    "    noisy_counts = simulate(qc, shots=shots, noise_model=noise_model, optimization_level=level)\n",
    "    tvd = total_variation_distance(ideal_counts, noisy_counts)\n",
    "    tvd_results[f\"Level {level}\"] = tvd\n",
    "    print(f\"[Opt. Level {level}] → TVD = {tvd:.4f}\")"
   ]
  },
  {
   "cell_type": "markdown",
   "id": "442a65b8-d620-4d16-ba69-57224d5fc8cc",
   "metadata": {},
   "source": [
    "Step 5: Plot TVD Results"
   ]
  },
  {
   "cell_type": "code",
   "execution_count": 6,
   "id": "bc9a46bf-c70a-42ff-9f5c-3876ee71fde4",
   "metadata": {},
   "outputs": [
    {
     "name": "stdout",
     "output_type": "stream",
     "text": [
      "[✓] Plot saved to: ../outputs/Derivable4b/tvd_vs_transpilation_level.png\n"
     ]
    },
    {
     "data": {
      "image/png": "[encoded data removed]",
      "text/plain": [
       "<Figure size 800x500 with 1 Axes>"
      ]
     },
     "metadata": {},
     "output_type": "display_data"
    }
   ],
   "source": [
    "plt.figure(figsize=(8,5))\n",
    "plt.bar(tvd_results.keys(), tvd_results.values(), color='skyblue', edgecolor='black')\n",
    "plt.title(\"TVD between Ideal and Noisy Outputs vs Optimization Level\")\n",
    "plt.ylabel(\"Total Variation Distance (TVD)\")\n",
    "plt.xlabel(\"Transpilation Optimization Level\")\n",
    "plt.grid(axis='y')\n",
    "plt.tight_layout()\n",
    "\n",
    "# Save and Show\n",
    "# save_path = \"/home/sarojray/Downloads/womanium2025/QuantumGaltonBox/results/tvd_vs_transpilation_level.png\"\n",
    "# plt.savefig(save_path, dpi=300)\n",
    "# print(f\"[✓] Plot saved to: {save_path}\")\n",
    "# plt.show()\n",
    "\n",
    "plot_path = os.path.join(output_dir, \"tvd_vs_transpilation_level.png\")\n",
    "plt.savefig(plot_path, dpi=300)\n",
    "print(f\"[✓] Plot saved to: {plot_path}\")\n",
    "plt.show()"
   ]
  },
  {
   "cell_type": "code",
   "execution_count": null,
   "id": "afbb0258-53bb-4483-ad5f-d44b6358fc4a",
   "metadata": {},
   "outputs": [],
   "source": []
  },
  {
   "cell_type": "code",
   "execution_count": null,
   "id": "d5587d41-2aa2-49ae-8460-11c1ccd12ee5",
   "metadata": {},
   "outputs": [],
   "source": []
  }
 ],
 "metadata": {
  "kernelspec": {
   "display_name": "cwq",
   "language": "python",
   "name": "cwq"
  },
  "language_info": {
   "codemirror_mode": {
    "name": "ipython",
    "version": 3
   },
   "file_extension": ".py",
   "mimetype": "text/x-python",
   "name": "python",
   "nbconvert_exporter": "python",
   "pygments_lexer": "ipython3",
   "version": "3.10.18"
  }
 },
 "nbformat": 4,
 "nbformat_minor": 5
}
